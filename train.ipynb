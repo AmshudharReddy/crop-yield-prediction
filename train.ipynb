{
 "cells": [
  {
   "cell_type": "code",
   "execution_count": null,
   "metadata": {
    "vscode": {
     "languageId": "plaintext"
    }
   },
   "outputs": [],
   "source": [
    "import pandas as pd\n",
    "import numpy as np\n",
    "from sklearn.model_selection import train_test_split\n",
    "from sklearn.preprocessing import LabelEncoder, StandardScaler\n",
    "from sklearn.ensemble import RandomForestRegressor\n",
    "from sklearn.metrics import mean_squared_error, r2_score\n",
    "import matplotlib.pyplot as plt\n",
    "\n",
    "# Load the dataset\n",
    "data = pd.read_csv('/content/crop_yield.csv')  # Replace with your CSV file path\n",
    "\n",
    "# Display the first few rows of the dataset\n",
    "print(\"First few rows of the dataset:\")\n",
    "print(data.head())\n",
    "\n",
    "# Preprocessing\n",
    "# Convert categorical variables to numerical using Label Encoding\n",
    "label_encoders = {}\n",
    "categorical_columns = ['Crop', 'Season', 'State']\n",
    "\n",
    "for col in categorical_columns:\n",
    "    le = LabelEncoder()\n",
    "    data[col] = le.fit_transform(data[col])\n",
    "    label_encoders[col] = le\n",
    "\n",
    "# Remove the 'Production' column and use 'Yield' as the target variable\n",
    "X = data.drop(columns=['Production', 'Yield'])  # Features\n",
    "y = data['Yield']  # Target variable\n",
    "\n",
    "# Split the dataset into training and testing sets\n",
    "X_train, X_test, y_train, y_test = train_test_split(X, y, test_size=0.2, random_state=42)\n",
    "\n",
    "# Feature Scaling (optional for Random Forest, but can help in some cases)\n",
    "scaler = StandardScaler()\n",
    "X_train = scaler.fit_transform(X_train)\n",
    "X_test = scaler.transform(X_test)\n",
    "\n",
    "# Train a Random Forest Regressor\n",
    "n_estimators = 100  # Number of trees in the forest\n",
    "print(\"Training Random Forest model...\")\n",
    "rf_model = RandomForestRegressor(n_estimators=n_estimators, random_state=42)\n",
    "\n",
    "# Train the model with progress updates\n",
    "for i in range(1, n_estimators + 1):\n",
    "    rf_model.set_params(n_estimators=i)\n",
    "    rf_model.fit(X_train, y_train)\n",
    "    if i % 10 == 0 or i == 1 or i == n_estimators:\n",
    "        y_pred = rf_model.predict(X_test)\n",
    "        mse = mean_squared_error(y_test, y_pred)\n",
    "        r2 = r2_score(y_test, y_pred)\n",
    "        print(f\"Epoch {i}/{n_estimators} - Test MSE: {mse:.4f}, R²: {r2:.4f}\")\n",
    "\n",
    "# Final evaluation\n",
    "y_pred = rf_model.predict(X_test)\n",
    "mse = mean_squared_error(y_test, y_pred)\n",
    "r2 = r2_score(y_test, y_pred)\n",
    "\n",
    "print(\"\\nFinal Model Evaluation:\")\n",
    "print(f\"Mean Squared Error (MSE): {mse:.4f}\")\n",
    "print(f\"R² Score: {r2:.4f}\")\n",
    "\n",
    "# Feature Importance\n",
    "importances = rf_model.feature_importances_\n",
    "feature_names = X.columns\n",
    "feature_importance_df = pd.DataFrame({'Feature': feature_names, 'Importance': importances})\n",
    "feature_importance_df = feature_importance_df.sort_values(by='Importance', ascending=False)\n",
    "\n",
    "print(\"\\nFeature Importance:\")\n",
    "print(feature_importance_df)\n",
    "\n",
    "# Visualize the results\n",
    "plt.scatter(y_test, y_pred)\n",
    "plt.xlabel('Actual Yield')\n",
    "plt.ylabel('Predicted Yield')\n",
    "plt.title('Actual vs Predicted Yield')\n",
    "plt.show()"
   ]
  },
  {
   "cell_type": "code",
   "execution_count": null,
   "metadata": {
    "vscode": {
     "languageId": "plaintext"
    }
   },
   "outputs": [],
   "source": [
    "import pandas as pd\n",
    "import numpy as np\n",
    "from sklearn.model_selection import train_test_split\n",
    "from sklearn.preprocessing import LabelEncoder, StandardScaler\n",
    "from sklearn.ensemble import RandomForestRegressor\n",
    "from sklearn.metrics import mean_squared_error, r2_score\n",
    "import joblib\n",
    "\n",
    "# Load the dataset\n",
    "data = pd.read_csv('/content/crop_yield.csv')\n",
    "\n",
    "# Preprocessing\n",
    "label_encoders = {}\n",
    "categorical_columns = ['Crop', 'Season', 'State']\n",
    "\n",
    "for col in categorical_columns:\n",
    "    le = LabelEncoder()\n",
    "    data[col] = le.fit_transform(data[col])\n",
    "    label_encoders[col] = le\n",
    "\n",
    "# Remove the 'Production' column and use 'Yield' as the target variable\n",
    "X = data.drop(columns=['Production', 'Yield'])\n",
    "y = data['Yield']\n",
    "\n",
    "# Split the dataset into training and testing sets\n",
    "X_train, X_test, y_train, y_test = train_test_split(X, y, test_size=0.2, random_state=42)\n",
    "\n",
    "# Save feature names (important for prediction)\n",
    "feature_names = X.columns.tolist()\n",
    "\n",
    "# Feature Scaling\n",
    "scaler = StandardScaler()\n",
    "X_train = scaler.fit_transform(X_train)\n",
    "X_test = scaler.transform(X_test)\n",
    "\n",
    "# Train the model\n",
    "rf_model = RandomForestRegressor(n_estimators=100, random_state=42)\n",
    "rf_model.fit(X_train, y_train)\n",
    "\n",
    "# Save the model, scaler, label encoders, and feature names\n",
    "joblib.dump(rf_model, 'random_forest_model1.pkl')\n",
    "joblib.dump(scaler, 'scaler1.pkl')\n",
    "joblib.dump(label_encoders, 'label_encoders1.pkl')\n",
    "joblib.dump(feature_names, 'feature_names.pkl')  # Save feature order\n",
    "\n",
    "# Evaluate the model\n",
    "y_pred = rf_model.predict(X_test)\n",
    "mse = mean_squared_error(y_test, y_pred)\n",
    "r2 = r2_score(y_test, y_pred)\n",
    "\n",
    "print(f\"Final Model - MSE: {mse:.4f}, R²: {r2:.4f}\")"
   ]
  },
  {
   "cell_type": "code",
   "execution_count": null,
   "metadata": {
    "vscode": {
     "languageId": "plaintext"
    }
   },
   "outputs": [],
   "source": [
    "import joblib\n",
    "\n",
    "# Save the model, label encoders, and scaler\n",
    "joblib.dump(rf_model, 'random_forest_model1.pkl')\n",
    "joblib.dump(label_encoders, 'label_encoders1.pkl')\n",
    "joblib.dump(scaler, 'scaler1.pkl')"
   ]
  },
  {
   "cell_type": "code",
   "execution_count": null,
   "metadata": {
    "vscode": {
     "languageId": "plaintext"
    }
   },
   "outputs": [],
   "source": [
    "def predict_yield(new_data, model, label_encoders, scaler, training_columns):\n",
    "    \"\"\"\n",
    "    Predicts crop yield for new data using the trained Random Forest model.\n",
    "\n",
    "    Parameters:\n",
    "        new_data (pd.DataFrame): New data with the same features as the training data.\n",
    "        model (RandomForestRegressor): Trained Random Forest model.\n",
    "        label_encoders (dict): Dictionary of LabelEncoders used for categorical columns.\n",
    "        scaler (StandardScaler): Scaler used for feature scaling.\n",
    "        training_columns (list): List of feature names used during training.\n",
    "\n",
    "    Returns:\n",
    "        predictions (np.array): Predicted yield values.\n",
    "    \"\"\"\n",
    "    # Make a copy of the new data to avoid modifying the original\n",
    "    new_data = new_data.copy()\n",
    "\n",
    "    # Ensure the new data has the same columns as the training data, in the same order\n",
    "    new_data = new_data.reindex(columns=training_columns, fill_value=0)  # Fill missing columns with 0 or appropriate default values\n",
    "\n",
    "    # Preprocess the new data\n",
    "    # Encode categorical variables using the same LabelEncoders\n",
    "    categorical_columns = ['Crop', 'Season', 'State']\n",
    "    for col in categorical_columns:\n",
    "        le = label_encoders[col]\n",
    "        valid_categories = set(le.classes_)\n",
    "        new_data[col] = new_data[col].apply(lambda x: x if x in valid_categories else le.classes_[0])  # Replace unknown categories with default\n",
    "        new_data[col] = le.transform(new_data[col])  # Encode categorical variables\n",
    "\n",
    "    # Scale the features using the same scaler\n",
    "    new_data_scaled = scaler.transform(new_data)\n",
    "\n",
    "    # Make predictions\n",
    "    predictions = model.predict(new_data_scaled)\n",
    "    return predictions"
   ]
  },
  {
   "cell_type": "code",
   "execution_count": null,
   "metadata": {
    "vscode": {
     "languageId": "plaintext"
    }
   },
   "outputs": [],
   "source": [
    "# Get the feature names used during training\n",
    "training_columns = X.columns.tolist()\n",
    "\n",
    "# Example new data\n",
    "new_data = pd.DataFrame({\n",
    "    'Crop': ['Maize', 'Rice'],\n",
    "    'Season': ['Kharif', 'Rabi'],\n",
    "    'State': ['Assam', 'Punjab'],\n",
    "    'Area': [10000, 15000],\n",
    "    'Annual_Rainfall': [1200, 800],\n",
    "    'Fertilizer': [50000, 75000],\n",
    "    'Pesticide': [2000, 3000],\n",
    "    'Crop_Year': [1997, 1998]  # Add the 'Crop_Year' column\n",
    "})\n",
    "\n",
    "# Make predictions\n",
    "predictions = predict_yield(new_data, rf_model, label_encoders, scaler, training_columns)\n",
    "\n",
    "# Display the predictions\n",
    "print(\"\\nPredicted Yield:\")\n",
    "for i, pred in enumerate(predictions):\n",
    "    print(f\"Prediction {i + 1}: {pred:.4f}\")"
   ]
  },
  {
   "cell_type": "code",
   "execution_count": null,
   "metadata": {
    "vscode": {
     "languageId": "plaintext"
    }
   },
   "outputs": [],
   "source": [
    "# Example input for a single crop\n",
    "single_crop_data = pd.DataFrame({\n",
    "    'Crop': ['Arecanut'],  # Replace with the crop name\n",
    "    'Season': ['Karif'],  # Replace with the season\n",
    "    'State': ['Telangana'],  # Replace with the state\n",
    "    'Area': [100],  # Replace with the area\n",
    "    'Annual_Rainfall': [2021.4],  # Replace with the annual rainfall\n",
    "    'Fertilizer': [7024878.38],  # Replace with the fertilizer amount\n",
    "    'Pesticide': [22882.34],  # Replace with the pesticide amount\n",
    "    'Crop_Year': [2025]  # Replace with the crop year\n",
    "})\n",
    "\n",
    "# Get the feature names used during training\n",
    "training_columns = X.columns.tolist()\n",
    "\n",
    "# Make predictions for the single crop\n",
    "prediction = predict_yield(single_crop_data, rf_model, label_encoders, scaler, training_columns)\n",
    "\n",
    "# Display the prediction\n",
    "print(\"\\nPredicted Yield for the Single Crop:\")\n",
    "print(f\"Predicted Yield: {prediction[0]:.4f}\")"
   ]
  },
  {
   "cell_type": "code",
   "execution_count": null,
   "metadata": {
    "vscode": {
     "languageId": "plaintext"
    }
   },
   "outputs": [],
   "source": []
  },
  {
   "cell_type": "code",
   "execution_count": null,
   "metadata": {
    "vscode": {
     "languageId": "plaintext"
    }
   },
   "outputs": [],
   "source": []
  }
 ],
 "metadata": {
  "language_info": {
   "name": "python"
  }
 },
 "nbformat": 4,
 "nbformat_minor": 2
}
